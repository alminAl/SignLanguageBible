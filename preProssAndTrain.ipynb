{
 "cells": [
  {
   "cell_type": "code",
   "execution_count": 1,
   "metadata": {},
   "outputs": [],
   "source": [
    "import cv2\n",
    "import numpy as np\n",
    "import os\n",
    "from matplotlib import pyplot as plt\n",
    "import time\n",
    "import mediapipe as mp\n",
    "import pandas as pd"
   ]
  },
  {
   "cell_type": "markdown",
   "metadata": {},
   "source": [
    "# 6. Preprocess Data and Create Labels and Features"
   ]
  },
  {
   "cell_type": "code",
   "execution_count": 2,
   "metadata": {},
   "outputs": [],
   "source": [
    "from sklearn.model_selection import train_test_split\n",
    "from tensorflow.keras.utils import to_categorical"
   ]
  },
  {
   "cell_type": "code",
   "execution_count": 3,
   "metadata": {},
   "outputs": [],
   "source": [
    "df = pd.read_csv(f\"https://docs.google.com/spreadsheets/d/13O-5I0-hh__8n53OQF4TCDkEMeEm33y98EutsDE1yfE/export?format=csv\")\n",
    "\n",
    "actions =  np.array(list(df[\"actions_label\"]))\n",
    "label_map = {label:num for num, label in enumerate(actions)}\n",
    "\n",
    "DATA_PATH = os.path.join('MainDataSet') \n",
    "# DATA_PATH = os.path.join('MP_Data') \n",
    "# Videos are going to be 30 frames in length\n",
    "sequence_length = 30"
   ]
  },
  {
   "cell_type": "code",
   "execution_count": 4,
   "metadata": {},
   "outputs": [
    {
     "data": {
      "text/plain": [
       "array(['empty', 'tumi_tumar_tomake',\n",
       "       'ki_kothay_keno_kivabe_kokhn_koto_kemon', 'ami', 'amar', 'amader',\n",
       "       '0', '1', '2', '3', '4', '5', '6', '7', '8', '9', 'hajar', 'a',\n",
       "       'b', 'c', 'd', 'e', 'f', 'g', 'h', 'i', 'j', 'k', 'l', 'm', 'n',\n",
       "       'o', 'p', 'q', 'r', 's', 't', 'u', 'v', 'w', 'x', 'y', 'z',\n",
       "       'school', 'college', 'varsity', 'office', 'kaj', 'computer',\n",
       "       'mobile', 'boi', 'kolom', 'light', 'tv', 'fan', 'cricket',\n",
       "       'football', 'hata', 'kotha bola', 'ghumano',\n",
       "       'asha_ashe_ashi_ashen_ashbo_ashben_ay', 'jawa', 'dekha',\n",
       "       'din_dibosh', 'shoni bar', 'robi bar', 'shom bar', 'mongol bar',\n",
       "       'budh bar', 'brihoshpoti bar', 'shukro bar', 'bivag', 'dhaka',\n",
       "       'chattogram', 'khulna', 'rajshahi', 'barisal', 'sylhet', 'rangpur',\n",
       "       'mymensingh', 'vaat', 'maach', 'mangsho_gushto', 'murgi', 'cha',\n",
       "       'kofi', 'ruti', 'sobji', 'daal', 'mishti', 'paani', 'dudh', 'aam',\n",
       "       'kathal', 'aapel', 'komola', 'kola', 'aangur', 'pepe', 'khaddo'],\n",
       "      dtype='<U38')"
      ]
     },
     "execution_count": 4,
     "metadata": {},
     "output_type": "execute_result"
    }
   ],
   "source": [
    "actions"
   ]
  },
  {
   "cell_type": "code",
   "execution_count": 5,
   "metadata": {},
   "outputs": [],
   "source": [
    "sequences, labels = [], []\n",
    "index = 0\n",
    "for action in actions:\n",
    "    for sequence in np.array(os.listdir(os.path.join(DATA_PATH,  f\"{index}. {action}\"))).astype(int):\n",
    "        window = []\n",
    "        for frame_num in range(sequence_length):\n",
    "            res = np.load(os.path.join(DATA_PATH, f\"{index}. {action}\", str(sequence), \"{}.npy\".format(frame_num)))\n",
    "            window.append(res)\n",
    "        sequences.append(window)\n",
    "        labels.append(label_map[action])\n",
    "    index+=1"
   ]
  },
  {
   "cell_type": "code",
   "execution_count": null,
   "metadata": {},
   "outputs": [],
   "source": [
    "sequences"
   ]
  },
  {
   "cell_type": "code",
   "execution_count": 6,
   "metadata": {},
   "outputs": [
    {
     "data": {
      "text/plain": [
       "(8790, 30, 1662)"
      ]
     },
     "execution_count": 6,
     "metadata": {},
     "output_type": "execute_result"
    }
   ],
   "source": [
    "np.array(sequences).shape"
   ]
  },
  {
   "cell_type": "code",
   "execution_count": 10,
   "metadata": {},
   "outputs": [
    {
     "data": {
      "text/plain": [
       "(6690,)"
      ]
     },
     "execution_count": 10,
     "metadata": {},
     "output_type": "execute_result"
    }
   ],
   "source": [
    "np.array(labels).shape"
   ]
  },
  {
   "cell_type": "code",
   "execution_count": 7,
   "metadata": {},
   "outputs": [],
   "source": [
    "X = np.array(sequences)"
   ]
  },
  {
   "cell_type": "code",
   "execution_count": 17,
   "metadata": {},
   "outputs": [
    {
     "data": {
      "text/plain": [
       "(4170, 30, 1662)"
      ]
     },
     "execution_count": 17,
     "metadata": {},
     "output_type": "execute_result"
    }
   ],
   "source": [
    "X.shape"
   ]
  },
  {
   "cell_type": "code",
   "execution_count": 9,
   "metadata": {},
   "outputs": [],
   "source": [
    "y = to_categorical(labels).astype(int)"
   ]
  },
  {
   "cell_type": "code",
   "execution_count": 19,
   "metadata": {},
   "outputs": [
    {
     "data": {
      "text/plain": [
       "(4170, 52)"
      ]
     },
     "execution_count": 19,
     "metadata": {},
     "output_type": "execute_result"
    }
   ],
   "source": [
    "y.shape"
   ]
  },
  {
   "cell_type": "code",
   "execution_count": 10,
   "metadata": {},
   "outputs": [],
   "source": [
    "X_train, X_test, y_train, y_test = train_test_split(X, y, test_size=0.05)"
   ]
  },
  {
   "cell_type": "code",
   "execution_count": 14,
   "metadata": {},
   "outputs": [
    {
     "name": "stdout",
     "output_type": "stream",
     "text": [
      "(6355, 30, 1662)\n",
      "(335, 30, 1662)\n",
      "(6355, 80)\n",
      "(335, 80)\n"
     ]
    }
   ],
   "source": [
    "# y_test.shape\n",
    "print(X_train.shape)\n",
    "print(X_test.shape)\n",
    "print(y_train.shape)\n",
    "print(y_test.shape)"
   ]
  },
  {
   "cell_type": "markdown",
   "metadata": {},
   "source": [
    "# 7. Build and Train LSTM Neural Network"
   ]
  },
  {
   "cell_type": "code",
   "execution_count": 11,
   "metadata": {},
   "outputs": [],
   "source": [
    "from tensorflow.keras.models import Sequential\n",
    "from tensorflow.keras.layers import LSTM, Dense, Input\n",
    "from tensorflow.keras.callbacks import TensorBoard"
   ]
  },
  {
   "cell_type": "code",
   "execution_count": 12,
   "metadata": {},
   "outputs": [],
   "source": [
    "log_dir = os.path.join('Logs')\n",
    "tb_callback = TensorBoard(log_dir=log_dir)"
   ]
  },
  {
   "cell_type": "code",
   "execution_count": 27,
   "metadata": {},
   "outputs": [],
   "source": [
    "model = Sequential()\n",
    "model.add(LSTM(256, return_sequences=True, activation='relu', input_shape=(30,1662)))\n",
    "model.add(LSTM(128, return_sequences=True, activation='relu'))\n",
    "model.add(LSTM(64, return_sequences=False, activation='relu'))\n",
    "\n",
    "# model.add(Dense(128, activation='relu'))\n",
    "model.add(Dense(64, activation='relu'))\n",
    "model.add(Dense(actions.shape[0], activation='softmax'))"
   ]
  },
  {
   "cell_type": "code",
   "execution_count": 23,
   "metadata": {},
   "outputs": [
    {
     "data": {
      "text/plain": [
       "(None, 100)"
      ]
     },
     "execution_count": 23,
     "metadata": {},
     "output_type": "execute_result"
    }
   ],
   "source": [
    "model.output_shape"
   ]
  },
  {
   "cell_type": "code",
   "execution_count": 239,
   "metadata": {},
   "outputs": [],
   "source": [
    "res = [0.2,0.7,0.1]"
   ]
  },
  {
   "cell_type": "code",
   "execution_count": 240,
   "metadata": {},
   "outputs": [
    {
     "data": {
      "text/plain": [
       "[0.2, 0.7, 0.1]"
      ]
     },
     "execution_count": 240,
     "metadata": {},
     "output_type": "execute_result"
    }
   ],
   "source": [
    "res"
   ]
  },
  {
   "cell_type": "code",
   "execution_count": 241,
   "metadata": {},
   "outputs": [
    {
     "data": {
      "text/plain": [
       "'tumi_tumar_tomake'"
      ]
     },
     "execution_count": 241,
     "metadata": {},
     "output_type": "execute_result"
    }
   ],
   "source": [
    "actions[np.argmax(res)]"
   ]
  },
  {
   "cell_type": "code",
   "execution_count": 29,
   "metadata": {},
   "outputs": [],
   "source": [
    "from keras.optimizers import Adam\n",
    "# opt = Adam()\n",
    "opt = Adam(learning_rate=0.0001)\n",
    "model.compile(optimizer=opt, loss='categorical_crossentropy', metrics=['categorical_accuracy'])"
   ]
  },
  {
   "cell_type": "code",
   "execution_count": 40,
   "metadata": {},
   "outputs": [
    {
     "name": "stdout",
     "output_type": "stream",
     "text": [
      "Epoch 1/120\n",
      "261/261 [==============================] - 114s 419ms/step - loss: 0.1895 - categorical_accuracy: 0.9420\n",
      "Epoch 2/120\n",
      "261/261 [==============================] - 108s 413ms/step - loss: 0.1792 - categorical_accuracy: 0.9396\n",
      "Epoch 3/120\n",
      "261/261 [==============================] - 112s 428ms/step - loss: 0.1584 - categorical_accuracy: 0.9492\n",
      "Epoch 4/120\n",
      "261/261 [==============================] - 106s 408ms/step - loss: 0.1833 - categorical_accuracy: 0.9416\n",
      "Epoch 5/120\n",
      "261/261 [==============================] - 106s 407ms/step - loss: 0.2599 - categorical_accuracy: 0.9163\n",
      "Epoch 6/120\n",
      "261/261 [==============================] - 110s 421ms/step - loss: 0.1675 - categorical_accuracy: 0.9549\n",
      "Epoch 7/120\n",
      "130/261 [=============>................] - ETA: 55s - loss: 0.1491 - categorical_accuracy: 0.9579"
     ]
    },
    {
     "ename": "KeyboardInterrupt",
     "evalue": "",
     "output_type": "error",
     "traceback": [
      "\u001b[1;31m---------------------------------------------------------------------------\u001b[0m",
      "\u001b[1;31mKeyboardInterrupt\u001b[0m                         Traceback (most recent call last)",
      "Cell \u001b[1;32mIn[40], line 1\u001b[0m\n\u001b[1;32m----> 1\u001b[0m model\u001b[39m.\u001b[39;49mfit(X_train, y_train, epochs\u001b[39m=\u001b[39;49m\u001b[39m120\u001b[39;49m, callbacks\u001b[39m=\u001b[39;49m[tb_callback])\n",
      "File \u001b[1;32me:\\SignLanguageBible\\venv\\lib\\site-packages\\keras\\utils\\traceback_utils.py:65\u001b[0m, in \u001b[0;36mfilter_traceback.<locals>.error_handler\u001b[1;34m(*args, **kwargs)\u001b[0m\n\u001b[0;32m     63\u001b[0m filtered_tb \u001b[39m=\u001b[39m \u001b[39mNone\u001b[39;00m\n\u001b[0;32m     64\u001b[0m \u001b[39mtry\u001b[39;00m:\n\u001b[1;32m---> 65\u001b[0m     \u001b[39mreturn\u001b[39;00m fn(\u001b[39m*\u001b[39margs, \u001b[39m*\u001b[39m\u001b[39m*\u001b[39mkwargs)\n\u001b[0;32m     66\u001b[0m \u001b[39mexcept\u001b[39;00m \u001b[39mException\u001b[39;00m \u001b[39mas\u001b[39;00m e:\n\u001b[0;32m     67\u001b[0m     filtered_tb \u001b[39m=\u001b[39m _process_traceback_frames(e\u001b[39m.\u001b[39m__traceback__)\n",
      "File \u001b[1;32me:\\SignLanguageBible\\venv\\lib\\site-packages\\keras\\engine\\training.py:1564\u001b[0m, in \u001b[0;36mModel.fit\u001b[1;34m(self, x, y, batch_size, epochs, verbose, callbacks, validation_split, validation_data, shuffle, class_weight, sample_weight, initial_epoch, steps_per_epoch, validation_steps, validation_batch_size, validation_freq, max_queue_size, workers, use_multiprocessing)\u001b[0m\n\u001b[0;32m   1556\u001b[0m \u001b[39mwith\u001b[39;00m tf\u001b[39m.\u001b[39mprofiler\u001b[39m.\u001b[39mexperimental\u001b[39m.\u001b[39mTrace(\n\u001b[0;32m   1557\u001b[0m     \u001b[39m\"\u001b[39m\u001b[39mtrain\u001b[39m\u001b[39m\"\u001b[39m,\n\u001b[0;32m   1558\u001b[0m     epoch_num\u001b[39m=\u001b[39mepoch,\n\u001b[1;32m   (...)\u001b[0m\n\u001b[0;32m   1561\u001b[0m     _r\u001b[39m=\u001b[39m\u001b[39m1\u001b[39m,\n\u001b[0;32m   1562\u001b[0m ):\n\u001b[0;32m   1563\u001b[0m     callbacks\u001b[39m.\u001b[39mon_train_batch_begin(step)\n\u001b[1;32m-> 1564\u001b[0m     tmp_logs \u001b[39m=\u001b[39m \u001b[39mself\u001b[39;49m\u001b[39m.\u001b[39;49mtrain_function(iterator)\n\u001b[0;32m   1565\u001b[0m     \u001b[39mif\u001b[39;00m data_handler\u001b[39m.\u001b[39mshould_sync:\n\u001b[0;32m   1566\u001b[0m         context\u001b[39m.\u001b[39masync_wait()\n",
      "File \u001b[1;32me:\\SignLanguageBible\\venv\\lib\\site-packages\\tensorflow\\python\\util\\traceback_utils.py:150\u001b[0m, in \u001b[0;36mfilter_traceback.<locals>.error_handler\u001b[1;34m(*args, **kwargs)\u001b[0m\n\u001b[0;32m    148\u001b[0m filtered_tb \u001b[39m=\u001b[39m \u001b[39mNone\u001b[39;00m\n\u001b[0;32m    149\u001b[0m \u001b[39mtry\u001b[39;00m:\n\u001b[1;32m--> 150\u001b[0m   \u001b[39mreturn\u001b[39;00m fn(\u001b[39m*\u001b[39margs, \u001b[39m*\u001b[39m\u001b[39m*\u001b[39mkwargs)\n\u001b[0;32m    151\u001b[0m \u001b[39mexcept\u001b[39;00m \u001b[39mException\u001b[39;00m \u001b[39mas\u001b[39;00m e:\n\u001b[0;32m    152\u001b[0m   filtered_tb \u001b[39m=\u001b[39m _process_traceback_frames(e\u001b[39m.\u001b[39m__traceback__)\n",
      "File \u001b[1;32me:\\SignLanguageBible\\venv\\lib\\site-packages\\tensorflow\\python\\eager\\def_function.py:915\u001b[0m, in \u001b[0;36mFunction.__call__\u001b[1;34m(self, *args, **kwds)\u001b[0m\n\u001b[0;32m    912\u001b[0m compiler \u001b[39m=\u001b[39m \u001b[39m\"\u001b[39m\u001b[39mxla\u001b[39m\u001b[39m\"\u001b[39m \u001b[39mif\u001b[39;00m \u001b[39mself\u001b[39m\u001b[39m.\u001b[39m_jit_compile \u001b[39melse\u001b[39;00m \u001b[39m\"\u001b[39m\u001b[39mnonXla\u001b[39m\u001b[39m\"\u001b[39m\n\u001b[0;32m    914\u001b[0m \u001b[39mwith\u001b[39;00m OptionalXlaContext(\u001b[39mself\u001b[39m\u001b[39m.\u001b[39m_jit_compile):\n\u001b[1;32m--> 915\u001b[0m   result \u001b[39m=\u001b[39m \u001b[39mself\u001b[39m\u001b[39m.\u001b[39m_call(\u001b[39m*\u001b[39margs, \u001b[39m*\u001b[39m\u001b[39m*\u001b[39mkwds)\n\u001b[0;32m    917\u001b[0m new_tracing_count \u001b[39m=\u001b[39m \u001b[39mself\u001b[39m\u001b[39m.\u001b[39mexperimental_get_tracing_count()\n\u001b[0;32m    918\u001b[0m without_tracing \u001b[39m=\u001b[39m (tracing_count \u001b[39m==\u001b[39m new_tracing_count)\n",
      "File \u001b[1;32me:\\SignLanguageBible\\venv\\lib\\site-packages\\tensorflow\\python\\eager\\def_function.py:947\u001b[0m, in \u001b[0;36mFunction._call\u001b[1;34m(self, *args, **kwds)\u001b[0m\n\u001b[0;32m    944\u001b[0m   \u001b[39mself\u001b[39m\u001b[39m.\u001b[39m_lock\u001b[39m.\u001b[39mrelease()\n\u001b[0;32m    945\u001b[0m   \u001b[39m# In this case we have created variables on the first call, so we run the\u001b[39;00m\n\u001b[0;32m    946\u001b[0m   \u001b[39m# defunned version which is guaranteed to never create variables.\u001b[39;00m\n\u001b[1;32m--> 947\u001b[0m   \u001b[39mreturn\u001b[39;00m \u001b[39mself\u001b[39m\u001b[39m.\u001b[39m_stateless_fn(\u001b[39m*\u001b[39margs, \u001b[39m*\u001b[39m\u001b[39m*\u001b[39mkwds)  \u001b[39m# pylint: disable=not-callable\u001b[39;00m\n\u001b[0;32m    948\u001b[0m \u001b[39melif\u001b[39;00m \u001b[39mself\u001b[39m\u001b[39m.\u001b[39m_stateful_fn \u001b[39mis\u001b[39;00m \u001b[39mnot\u001b[39;00m \u001b[39mNone\u001b[39;00m:\n\u001b[0;32m    949\u001b[0m   \u001b[39m# Release the lock early so that multiple threads can perform the call\u001b[39;00m\n\u001b[0;32m    950\u001b[0m   \u001b[39m# in parallel.\u001b[39;00m\n\u001b[0;32m    951\u001b[0m   \u001b[39mself\u001b[39m\u001b[39m.\u001b[39m_lock\u001b[39m.\u001b[39mrelease()\n",
      "File \u001b[1;32me:\\SignLanguageBible\\venv\\lib\\site-packages\\tensorflow\\python\\eager\\function.py:2496\u001b[0m, in \u001b[0;36mFunction.__call__\u001b[1;34m(self, *args, **kwargs)\u001b[0m\n\u001b[0;32m   2493\u001b[0m \u001b[39mwith\u001b[39;00m \u001b[39mself\u001b[39m\u001b[39m.\u001b[39m_lock:\n\u001b[0;32m   2494\u001b[0m   (graph_function,\n\u001b[0;32m   2495\u001b[0m    filtered_flat_args) \u001b[39m=\u001b[39m \u001b[39mself\u001b[39m\u001b[39m.\u001b[39m_maybe_define_function(args, kwargs)\n\u001b[1;32m-> 2496\u001b[0m \u001b[39mreturn\u001b[39;00m graph_function\u001b[39m.\u001b[39;49m_call_flat(\n\u001b[0;32m   2497\u001b[0m     filtered_flat_args, captured_inputs\u001b[39m=\u001b[39;49mgraph_function\u001b[39m.\u001b[39;49mcaptured_inputs)\n",
      "File \u001b[1;32me:\\SignLanguageBible\\venv\\lib\\site-packages\\tensorflow\\python\\eager\\function.py:1862\u001b[0m, in \u001b[0;36mConcreteFunction._call_flat\u001b[1;34m(self, args, captured_inputs, cancellation_manager)\u001b[0m\n\u001b[0;32m   1858\u001b[0m possible_gradient_type \u001b[39m=\u001b[39m gradients_util\u001b[39m.\u001b[39mPossibleTapeGradientTypes(args)\n\u001b[0;32m   1859\u001b[0m \u001b[39mif\u001b[39;00m (possible_gradient_type \u001b[39m==\u001b[39m gradients_util\u001b[39m.\u001b[39mPOSSIBLE_GRADIENT_TYPES_NONE\n\u001b[0;32m   1860\u001b[0m     \u001b[39mand\u001b[39;00m executing_eagerly):\n\u001b[0;32m   1861\u001b[0m   \u001b[39m# No tape is watching; skip to running the function.\u001b[39;00m\n\u001b[1;32m-> 1862\u001b[0m   \u001b[39mreturn\u001b[39;00m \u001b[39mself\u001b[39m\u001b[39m.\u001b[39m_build_call_outputs(\u001b[39mself\u001b[39;49m\u001b[39m.\u001b[39;49m_inference_function\u001b[39m.\u001b[39;49mcall(\n\u001b[0;32m   1863\u001b[0m       ctx, args, cancellation_manager\u001b[39m=\u001b[39;49mcancellation_manager))\n\u001b[0;32m   1864\u001b[0m forward_backward \u001b[39m=\u001b[39m \u001b[39mself\u001b[39m\u001b[39m.\u001b[39m_select_forward_and_backward_functions(\n\u001b[0;32m   1865\u001b[0m     args,\n\u001b[0;32m   1866\u001b[0m     possible_gradient_type,\n\u001b[0;32m   1867\u001b[0m     executing_eagerly)\n\u001b[0;32m   1868\u001b[0m forward_function, args_with_tangents \u001b[39m=\u001b[39m forward_backward\u001b[39m.\u001b[39mforward()\n",
      "File \u001b[1;32me:\\SignLanguageBible\\venv\\lib\\site-packages\\tensorflow\\python\\eager\\function.py:499\u001b[0m, in \u001b[0;36m_EagerDefinedFunction.call\u001b[1;34m(self, ctx, args, cancellation_manager)\u001b[0m\n\u001b[0;32m    497\u001b[0m \u001b[39mwith\u001b[39;00m _InterpolateFunctionError(\u001b[39mself\u001b[39m):\n\u001b[0;32m    498\u001b[0m   \u001b[39mif\u001b[39;00m cancellation_manager \u001b[39mis\u001b[39;00m \u001b[39mNone\u001b[39;00m:\n\u001b[1;32m--> 499\u001b[0m     outputs \u001b[39m=\u001b[39m execute\u001b[39m.\u001b[39;49mexecute(\n\u001b[0;32m    500\u001b[0m         \u001b[39mstr\u001b[39;49m(\u001b[39mself\u001b[39;49m\u001b[39m.\u001b[39;49msignature\u001b[39m.\u001b[39;49mname),\n\u001b[0;32m    501\u001b[0m         num_outputs\u001b[39m=\u001b[39;49m\u001b[39mself\u001b[39;49m\u001b[39m.\u001b[39;49m_num_outputs,\n\u001b[0;32m    502\u001b[0m         inputs\u001b[39m=\u001b[39;49margs,\n\u001b[0;32m    503\u001b[0m         attrs\u001b[39m=\u001b[39;49mattrs,\n\u001b[0;32m    504\u001b[0m         ctx\u001b[39m=\u001b[39;49mctx)\n\u001b[0;32m    505\u001b[0m   \u001b[39melse\u001b[39;00m:\n\u001b[0;32m    506\u001b[0m     outputs \u001b[39m=\u001b[39m execute\u001b[39m.\u001b[39mexecute_with_cancellation(\n\u001b[0;32m    507\u001b[0m         \u001b[39mstr\u001b[39m(\u001b[39mself\u001b[39m\u001b[39m.\u001b[39msignature\u001b[39m.\u001b[39mname),\n\u001b[0;32m    508\u001b[0m         num_outputs\u001b[39m=\u001b[39m\u001b[39mself\u001b[39m\u001b[39m.\u001b[39m_num_outputs,\n\u001b[1;32m   (...)\u001b[0m\n\u001b[0;32m    511\u001b[0m         ctx\u001b[39m=\u001b[39mctx,\n\u001b[0;32m    512\u001b[0m         cancellation_manager\u001b[39m=\u001b[39mcancellation_manager)\n",
      "File \u001b[1;32me:\\SignLanguageBible\\venv\\lib\\site-packages\\tensorflow\\python\\eager\\execute.py:54\u001b[0m, in \u001b[0;36mquick_execute\u001b[1;34m(op_name, num_outputs, inputs, attrs, ctx, name)\u001b[0m\n\u001b[0;32m     52\u001b[0m \u001b[39mtry\u001b[39;00m:\n\u001b[0;32m     53\u001b[0m   ctx\u001b[39m.\u001b[39mensure_initialized()\n\u001b[1;32m---> 54\u001b[0m   tensors \u001b[39m=\u001b[39m pywrap_tfe\u001b[39m.\u001b[39;49mTFE_Py_Execute(ctx\u001b[39m.\u001b[39;49m_handle, device_name, op_name,\n\u001b[0;32m     55\u001b[0m                                       inputs, attrs, num_outputs)\n\u001b[0;32m     56\u001b[0m \u001b[39mexcept\u001b[39;00m core\u001b[39m.\u001b[39m_NotOkStatusException \u001b[39mas\u001b[39;00m e:\n\u001b[0;32m     57\u001b[0m   \u001b[39mif\u001b[39;00m name \u001b[39mis\u001b[39;00m \u001b[39mnot\u001b[39;00m \u001b[39mNone\u001b[39;00m:\n",
      "\u001b[1;31mKeyboardInterrupt\u001b[0m: "
     ]
    }
   ],
   "source": [
    "model.fit(X_train, y_train, epochs=120, callbacks=[tb_callback])"
   ]
  },
  {
   "cell_type": "code",
   "execution_count": 41,
   "metadata": {},
   "outputs": [
    {
     "name": "stdout",
     "output_type": "stream",
     "text": [
      "8350\n",
      "261/261 [==============================] - 44s 140ms/step\n",
      "96.16766467065868\n"
     ]
    }
   ],
   "source": [
    "# accuracy\n",
    "print(X_train.shape[0])\n",
    "res = model.predict(X_train)\n",
    "count=0\n",
    "for i in range(0,X_train.shape[0]): \n",
    "    if actions[np.argmax(res[i])] == actions[np.argmax(y_train[i])]:\n",
    "        count+=1\n",
    "print(count*100/X_train.shape[0])"
   ]
  },
  {
   "cell_type": "code",
   "execution_count": null,
   "metadata": {},
   "outputs": [],
   "source": []
  },
  {
   "attachments": {},
   "cell_type": "markdown",
   "metadata": {},
   "source": [
    "# 9. Save Weights"
   ]
  },
  {
   "cell_type": "code",
   "execution_count": 47,
   "metadata": {},
   "outputs": [],
   "source": [
    "model.save('finalmodelv2.h5')"
   ]
  },
  {
   "cell_type": "code",
   "execution_count": 98,
   "metadata": {},
   "outputs": [],
   "source": [
    "del model"
   ]
  },
  {
   "cell_type": "code",
   "execution_count": 106,
   "metadata": {},
   "outputs": [],
   "source": [
    "model.load_weights('action.h5')"
   ]
  },
  {
   "attachments": {},
   "cell_type": "markdown",
   "metadata": {},
   "source": [
    "# 10. Evaluation using Confusion Matrix and Accuracy"
   ]
  },
  {
   "cell_type": "code",
   "execution_count": 42,
   "metadata": {},
   "outputs": [],
   "source": [
    "from sklearn.metrics import multilabel_confusion_matrix, accuracy_score"
   ]
  },
  {
   "cell_type": "code",
   "execution_count": 48,
   "metadata": {},
   "outputs": [
    {
     "name": "stdout",
     "output_type": "stream",
     "text": [
      "14/14 [==============================] - 2s 131ms/step\n",
      "261/261 [==============================] - 42s 136ms/step\n"
     ]
    }
   ],
   "source": [
    "yhat = model.predict(X_test)\n",
    "yhatTrain = model.predict(X_train)"
   ]
  },
  {
   "cell_type": "code",
   "execution_count": 49,
   "metadata": {},
   "outputs": [],
   "source": [
    "ytrue = np.argmax(y_test, axis=1).tolist()\n",
    "yhat = np.argmax(yhat, axis=1).tolist()"
   ]
  },
  {
   "cell_type": "code",
   "execution_count": 50,
   "metadata": {},
   "outputs": [],
   "source": [
    "ytrueTrain = np.argmax(y_train, axis=1).tolist()\n",
    "yhatTrain = np.argmax(yhatTrain, axis=1).tolist()"
   ]
  },
  {
   "cell_type": "code",
   "execution_count": 51,
   "metadata": {},
   "outputs": [
    {
     "data": {
      "text/plain": [
       "array([[[436,   0],\n",
       "        [  1,   3]],\n",
       "\n",
       "       [[423,   4],\n",
       "        [  3,  10]],\n",
       "\n",
       "       [[430,   2],\n",
       "        [  2,   6]],\n",
       "\n",
       "       [[426,   4],\n",
       "        [  2,   8]],\n",
       "\n",
       "       [[431,   1],\n",
       "        [  0,   8]],\n",
       "\n",
       "       [[438,   0],\n",
       "        [  0,   2]],\n",
       "\n",
       "       [[438,   0],\n",
       "        [  0,   2]],\n",
       "\n",
       "       [[437,   0],\n",
       "        [  3,   0]],\n",
       "\n",
       "       [[434,   0],\n",
       "        [  0,   6]],\n",
       "\n",
       "       [[436,   1],\n",
       "        [  2,   1]],\n",
       "\n",
       "       [[430,   2],\n",
       "        [  4,   4]],\n",
       "\n",
       "       [[432,   1],\n",
       "        [  1,   6]],\n",
       "\n",
       "       [[436,   0],\n",
       "        [  0,   4]],\n",
       "\n",
       "       [[433,   1],\n",
       "        [  1,   5]],\n",
       "\n",
       "       [[434,   2],\n",
       "        [  0,   4]],\n",
       "\n",
       "       [[435,   1],\n",
       "        [  0,   4]],\n",
       "\n",
       "       [[435,   1],\n",
       "        [  1,   3]],\n",
       "\n",
       "       [[436,   0],\n",
       "        [  0,   4]],\n",
       "\n",
       "       [[436,   0],\n",
       "        [  0,   4]],\n",
       "\n",
       "       [[434,   0],\n",
       "        [  0,   6]],\n",
       "\n",
       "       [[431,   0],\n",
       "        [  1,   8]],\n",
       "\n",
       "       [[435,   1],\n",
       "        [  1,   3]],\n",
       "\n",
       "       [[429,   1],\n",
       "        [  3,   7]],\n",
       "\n",
       "       [[435,   1],\n",
       "        [  0,   4]],\n",
       "\n",
       "       [[437,   0],\n",
       "        [  0,   3]],\n",
       "\n",
       "       [[436,   1],\n",
       "        [  0,   3]],\n",
       "\n",
       "       [[434,   1],\n",
       "        [  0,   5]],\n",
       "\n",
       "       [[438,   0],\n",
       "        [  0,   2]],\n",
       "\n",
       "       [[435,   1],\n",
       "        [  0,   4]],\n",
       "\n",
       "       [[434,   0],\n",
       "        [  1,   5]],\n",
       "\n",
       "       [[433,   0],\n",
       "        [  1,   6]],\n",
       "\n",
       "       [[433,   1],\n",
       "        [  1,   5]],\n",
       "\n",
       "       [[435,   0],\n",
       "        [  0,   5]],\n",
       "\n",
       "       [[437,   0],\n",
       "        [  0,   3]],\n",
       "\n",
       "       [[436,   1],\n",
       "        [  0,   3]],\n",
       "\n",
       "       [[435,   0],\n",
       "        [  0,   5]],\n",
       "\n",
       "       [[437,   0],\n",
       "        [  0,   3]],\n",
       "\n",
       "       [[438,   0],\n",
       "        [  0,   2]],\n",
       "\n",
       "       [[435,   2],\n",
       "        [  0,   3]],\n",
       "\n",
       "       [[437,   0],\n",
       "        [  0,   3]],\n",
       "\n",
       "       [[438,   0],\n",
       "        [  1,   1]],\n",
       "\n",
       "       [[439,   0],\n",
       "        [  0,   1]],\n",
       "\n",
       "       [[438,   0],\n",
       "        [  0,   2]],\n",
       "\n",
       "       [[437,   0],\n",
       "        [  0,   3]],\n",
       "\n",
       "       [[434,   1],\n",
       "        [  0,   5]],\n",
       "\n",
       "       [[434,   1],\n",
       "        [  0,   5]],\n",
       "\n",
       "       [[436,   0],\n",
       "        [  1,   3]],\n",
       "\n",
       "       [[433,   0],\n",
       "        [  1,   6]],\n",
       "\n",
       "       [[433,   0],\n",
       "        [  0,   7]],\n",
       "\n",
       "       [[435,   0],\n",
       "        [  0,   5]],\n",
       "\n",
       "       [[437,   0],\n",
       "        [  0,   3]],\n",
       "\n",
       "       [[436,   0],\n",
       "        [  0,   4]],\n",
       "\n",
       "       [[436,   0],\n",
       "        [  0,   4]],\n",
       "\n",
       "       [[436,   1],\n",
       "        [  0,   3]],\n",
       "\n",
       "       [[434,   1],\n",
       "        [  0,   5]],\n",
       "\n",
       "       [[433,   0],\n",
       "        [  2,   5]],\n",
       "\n",
       "       [[434,   1],\n",
       "        [  0,   5]],\n",
       "\n",
       "       [[438,   0],\n",
       "        [  0,   2]],\n",
       "\n",
       "       [[435,   0],\n",
       "        [  0,   5]],\n",
       "\n",
       "       [[435,   0],\n",
       "        [  0,   5]],\n",
       "\n",
       "       [[438,   0],\n",
       "        [  0,   2]],\n",
       "\n",
       "       [[431,   0],\n",
       "        [  0,   9]],\n",
       "\n",
       "       [[438,   0],\n",
       "        [  0,   2]],\n",
       "\n",
       "       [[437,   0],\n",
       "        [  0,   3]],\n",
       "\n",
       "       [[438,   0],\n",
       "        [  0,   2]],\n",
       "\n",
       "       [[436,   0],\n",
       "        [  0,   4]],\n",
       "\n",
       "       [[437,   0],\n",
       "        [  0,   3]],\n",
       "\n",
       "       [[435,   0],\n",
       "        [  0,   5]],\n",
       "\n",
       "       [[434,   0],\n",
       "        [  1,   5]],\n",
       "\n",
       "       [[433,   0],\n",
       "        [  2,   5]],\n",
       "\n",
       "       [[436,   2],\n",
       "        [  0,   2]],\n",
       "\n",
       "       [[437,   0],\n",
       "        [  0,   3]],\n",
       "\n",
       "       [[437,   1],\n",
       "        [  0,   2]],\n",
       "\n",
       "       [[437,   0],\n",
       "        [  0,   3]],\n",
       "\n",
       "       [[436,   0],\n",
       "        [  0,   4]],\n",
       "\n",
       "       [[435,   0],\n",
       "        [  0,   5]],\n",
       "\n",
       "       [[435,   0],\n",
       "        [  0,   5]],\n",
       "\n",
       "       [[433,   0],\n",
       "        [  0,   7]],\n",
       "\n",
       "       [[434,   0],\n",
       "        [  0,   6]],\n",
       "\n",
       "       [[433,   0],\n",
       "        [  0,   7]],\n",
       "\n",
       "       [[437,   0],\n",
       "        [  1,   2]],\n",
       "\n",
       "       [[438,   0],\n",
       "        [  0,   2]],\n",
       "\n",
       "       [[434,   0],\n",
       "        [  1,   5]],\n",
       "\n",
       "       [[435,   0],\n",
       "        [  0,   5]],\n",
       "\n",
       "       [[435,   0],\n",
       "        [  0,   5]],\n",
       "\n",
       "       [[438,   0],\n",
       "        [  0,   2]],\n",
       "\n",
       "       [[439,   0],\n",
       "        [  0,   1]],\n",
       "\n",
       "       [[435,   0],\n",
       "        [  1,   4]],\n",
       "\n",
       "       [[437,   0],\n",
       "        [  0,   3]],\n",
       "\n",
       "       [[437,   0],\n",
       "        [  1,   2]],\n",
       "\n",
       "       [[438,   1],\n",
       "        [  0,   1]],\n",
       "\n",
       "       [[436,   0],\n",
       "        [  1,   3]],\n",
       "\n",
       "       [[438,   0],\n",
       "        [  0,   2]],\n",
       "\n",
       "       [[439,   0],\n",
       "        [  1,   0]],\n",
       "\n",
       "       [[435,   0],\n",
       "        [  0,   5]],\n",
       "\n",
       "       [[437,   0],\n",
       "        [  0,   3]],\n",
       "\n",
       "       [[430,   2],\n",
       "        [  0,   8]],\n",
       "\n",
       "       [[436,   0],\n",
       "        [  0,   4]],\n",
       "\n",
       "       [[438,   1],\n",
       "        [  0,   1]],\n",
       "\n",
       "       [[434,   1],\n",
       "        [  1,   4]]], dtype=int64)"
      ]
     },
     "execution_count": 51,
     "metadata": {},
     "output_type": "execute_result"
    }
   ],
   "source": [
    "multilabel_confusion_matrix(ytrue, yhat)"
   ]
  },
  {
   "cell_type": "code",
   "execution_count": 52,
   "metadata": {},
   "outputs": [
    {
     "data": {
      "text/plain": [
       "array([[[8261,    3],\n",
       "        [   0,   86]],\n",
       "\n",
       "       [[8148,    5],\n",
       "        [  17,  180]],\n",
       "\n",
       "       [[8080,    8],\n",
       "        [   7,  255]],\n",
       "\n",
       "       [[8137,   13],\n",
       "        [  25,  175]],\n",
       "\n",
       "       [[8116,   32],\n",
       "        [   9,  193]],\n",
       "\n",
       "       [[8322,    0],\n",
       "        [   4,   24]],\n",
       "\n",
       "       [[8256,    6],\n",
       "        [  14,   74]],\n",
       "\n",
       "       [[8261,    2],\n",
       "        [  22,   65]],\n",
       "\n",
       "       [[8252,   14],\n",
       "        [   5,   79]],\n",
       "\n",
       "       [[8260,    3],\n",
       "        [  15,   72]],\n",
       "\n",
       "       [[8254,   14],\n",
       "        [  15,   67]],\n",
       "\n",
       "       [[8248,   19],\n",
       "        [   3,   80]],\n",
       "\n",
       "       [[8260,    4],\n",
       "        [   2,   84]],\n",
       "\n",
       "       [[8260,    6],\n",
       "        [  14,   70]],\n",
       "\n",
       "       [[8249,   15],\n",
       "        [   6,   80]],\n",
       "\n",
       "       [[8259,    5],\n",
       "        [   5,   81]],\n",
       "\n",
       "       [[8263,    1],\n",
       "        [   4,   82]],\n",
       "\n",
       "       [[8263,    1],\n",
       "        [   1,   85]],\n",
       "\n",
       "       [[8261,    3],\n",
       "        [   2,   84]],\n",
       "\n",
       "       [[8263,    3],\n",
       "        [   4,   80]],\n",
       "\n",
       "       [[8269,    0],\n",
       "        [   4,   77]],\n",
       "\n",
       "       [[8259,    5],\n",
       "        [  17,   69]],\n",
       "\n",
       "       [[8250,   20],\n",
       "        [   6,   74]],\n",
       "\n",
       "       [[8264,    0],\n",
       "        [   0,   86]],\n",
       "\n",
       "       [[8263,    0],\n",
       "        [   0,   87]],\n",
       "\n",
       "       [[8253,   10],\n",
       "        [   1,   86]],\n",
       "\n",
       "       [[8249,   16],\n",
       "        [   3,   82]],\n",
       "\n",
       "       [[8262,    0],\n",
       "        [   0,   88]],\n",
       "\n",
       "       [[8260,    4],\n",
       "        [  18,   68]],\n",
       "\n",
       "       [[8266,    0],\n",
       "        [   1,   83]],\n",
       "\n",
       "       [[8267,    0],\n",
       "        [   0,   83]],\n",
       "\n",
       "       [[8263,    3],\n",
       "        [   4,   80]],\n",
       "\n",
       "       [[8263,    2],\n",
       "        [  17,   68]],\n",
       "\n",
       "       [[8291,    2],\n",
       "        [   0,   57]],\n",
       "\n",
       "       [[8293,    0],\n",
       "        [   0,   57]],\n",
       "\n",
       "       [[8265,    0],\n",
       "        [   1,   84]],\n",
       "\n",
       "       [[8280,   13],\n",
       "        [   1,   56]],\n",
       "\n",
       "       [[8283,    9],\n",
       "        [   0,   58]],\n",
       "\n",
       "       [[8286,    7],\n",
       "        [   2,   55]],\n",
       "\n",
       "       [[8293,    0],\n",
       "        [   0,   57]],\n",
       "\n",
       "       [[8291,    1],\n",
       "        [   1,   57]],\n",
       "\n",
       "       [[8291,    0],\n",
       "        [   0,   59]],\n",
       "\n",
       "       [[8291,    1],\n",
       "        [   0,   58]],\n",
       "\n",
       "       [[8260,    3],\n",
       "        [   0,   87]],\n",
       "\n",
       "       [[8264,    1],\n",
       "        [   1,   84]],\n",
       "\n",
       "       [[8264,    1],\n",
       "        [   0,   85]],\n",
       "\n",
       "       [[8261,    3],\n",
       "        [   2,   84]],\n",
       "\n",
       "       [[8266,    1],\n",
       "        [   0,   83]],\n",
       "\n",
       "       [[8267,    0],\n",
       "        [   1,   82]],\n",
       "\n",
       "       [[8265,    0],\n",
       "        [   0,   85]],\n",
       "\n",
       "       [[8263,    0],\n",
       "        [   0,   87]],\n",
       "\n",
       "       [[8260,    4],\n",
       "        [   0,   86]],\n",
       "\n",
       "       [[8264,    0],\n",
       "        [   1,   85]],\n",
       "\n",
       "       [[8263,    0],\n",
       "        [   0,   87]],\n",
       "\n",
       "       [[8265,    0],\n",
       "        [   1,   84]],\n",
       "\n",
       "       [[8266,    1],\n",
       "        [   0,   83]],\n",
       "\n",
       "       [[8265,    0],\n",
       "        [   0,   85]],\n",
       "\n",
       "       [[8262,    0],\n",
       "        [   1,   87]],\n",
       "\n",
       "       [[8265,    0],\n",
       "        [   0,   85]],\n",
       "\n",
       "       [[8265,    0],\n",
       "        [   2,   83]],\n",
       "\n",
       "       [[8261,    1],\n",
       "        [   0,   88]],\n",
       "\n",
       "       [[8269,    0],\n",
       "        [   0,   81]],\n",
       "\n",
       "       [[8262,    0],\n",
       "        [   2,   86]],\n",
       "\n",
       "       [[8263,    0],\n",
       "        [   5,   82]],\n",
       "\n",
       "       [[8262,    0],\n",
       "        [   3,   85]],\n",
       "\n",
       "       [[8261,    3],\n",
       "        [   0,   86]],\n",
       "\n",
       "       [[8263,    0],\n",
       "        [   3,   84]],\n",
       "\n",
       "       [[8264,    1],\n",
       "        [   7,   78]],\n",
       "\n",
       "       [[8260,    6],\n",
       "        [   2,   82]],\n",
       "\n",
       "       [[8261,    6],\n",
       "        [   0,   83]],\n",
       "\n",
       "       [[8260,    2],\n",
       "        [   0,   88]],\n",
       "\n",
       "       [[8263,    0],\n",
       "        [   0,   87]],\n",
       "\n",
       "       [[8262,    0],\n",
       "        [   0,   88]],\n",
       "\n",
       "       [[8263,    0],\n",
       "        [   0,   87]],\n",
       "\n",
       "       [[8262,    2],\n",
       "        [   0,   86]],\n",
       "\n",
       "       [[8265,    0],\n",
       "        [   0,   85]],\n",
       "\n",
       "       [[8265,    0],\n",
       "        [   0,   85]],\n",
       "\n",
       "       [[8267,    0],\n",
       "        [   0,   83]],\n",
       "\n",
       "       [[8266,    0],\n",
       "        [   0,   84]],\n",
       "\n",
       "       [[8267,    0],\n",
       "        [   0,   83]],\n",
       "\n",
       "       [[8261,    2],\n",
       "        [   3,   84]],\n",
       "\n",
       "       [[8259,    3],\n",
       "        [   0,   88]],\n",
       "\n",
       "       [[8266,    0],\n",
       "        [   3,   81]],\n",
       "\n",
       "       [[8263,    2],\n",
       "        [   7,   78]],\n",
       "\n",
       "       [[8264,    1],\n",
       "        [   3,   82]],\n",
       "\n",
       "       [[8257,    5],\n",
       "        [   2,   86]],\n",
       "\n",
       "       [[8290,    1],\n",
       "        [   1,   58]],\n",
       "\n",
       "       [[8293,    2],\n",
       "        [   2,   53]],\n",
       "\n",
       "       [[8285,    8],\n",
       "        [   2,   55]],\n",
       "\n",
       "       [[8293,    0],\n",
       "        [   7,   50]],\n",
       "\n",
       "       [[8291,    0],\n",
       "        [   0,   59]],\n",
       "\n",
       "       [[8292,    2],\n",
       "        [   5,   51]],\n",
       "\n",
       "       [[8289,    3],\n",
       "        [   0,   58]],\n",
       "\n",
       "       [[8291,    0],\n",
       "        [   0,   59]],\n",
       "\n",
       "       [[8292,    3],\n",
       "        [   0,   55]],\n",
       "\n",
       "       [[8293,    0],\n",
       "        [   2,   55]],\n",
       "\n",
       "       [[8298,    0],\n",
       "        [   2,   50]],\n",
       "\n",
       "       [[8292,    2],\n",
       "        [   0,   56]],\n",
       "\n",
       "       [[8291,    0],\n",
       "        [   0,   59]],\n",
       "\n",
       "       [[8294,    1],\n",
       "        [   0,   55]]], dtype=int64)"
      ]
     },
     "execution_count": 52,
     "metadata": {},
     "output_type": "execute_result"
    }
   ],
   "source": [
    "multilabel_confusion_matrix(ytrueTrain, yhatTrain)"
   ]
  },
  {
   "cell_type": "code",
   "execution_count": 53,
   "metadata": {},
   "outputs": [
    {
     "data": {
      "text/plain": [
       "0.9022727272727272"
      ]
     },
     "execution_count": 53,
     "metadata": {},
     "output_type": "execute_result"
    }
   ],
   "source": [
    "accuracy_score(ytrue, yhat)"
   ]
  },
  {
   "cell_type": "code",
   "execution_count": 54,
   "metadata": {},
   "outputs": [
    {
     "data": {
      "text/plain": [
       "0.9616766467065868"
      ]
     },
     "execution_count": 54,
     "metadata": {},
     "output_type": "execute_result"
    }
   ],
   "source": [
    "accuracy_score(ytrueTrain, yhatTrain)\n"
   ]
  }
 ],
 "metadata": {
  "kernelspec": {
   "display_name": "venv",
   "language": "python",
   "name": "python3"
  },
  "language_info": {
   "codemirror_mode": {
    "name": "ipython",
    "version": 3
   },
   "file_extension": ".py",
   "mimetype": "text/x-python",
   "name": "python",
   "nbconvert_exporter": "python",
   "pygments_lexer": "ipython3",
   "version": "3.9.5 (tags/v3.9.5:0a7dcbd, May  3 2021, 17:27:52) [MSC v.1928 64 bit (AMD64)]"
  },
  "orig_nbformat": 4,
  "vscode": {
   "interpreter": {
    "hash": "f61877553e3f5e2598db6818cc62d89df45e66a54e5fc41f570715f64c563fcb"
   }
  }
 },
 "nbformat": 4,
 "nbformat_minor": 2
}

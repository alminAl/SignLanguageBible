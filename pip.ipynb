{
 "cells": [
  {
   "cell_type": "code",
   "execution_count": 1,
   "metadata": {},
   "outputs": [
    {
     "data": {
      "text/plain": [
       "['Collecting tensorflow',\n",
       " '  Using cached tensorflow-2.11.0-cp39-cp39-win_amd64.whl (1.9 kB)',\n",
       " 'Collecting tensorflow-intel==2.11.0',\n",
       " '  Using cached tensorflow_intel-2.11.0-cp39-cp39-win_amd64.whl (266.3 MB)',\n",
       " 'Requirement already satisfied: six>=1.12.0 in e:\\\\signlanguagebible\\\\venv\\\\lib\\\\site-packages (from tensorflow-intel==2.11.0->tensorflow) (1.16.0)',\n",
       " 'Collecting tensorflow-io-gcs-filesystem>=0.23.1',\n",
       " '  Using cached tensorflow_io_gcs_filesystem-0.28.0-cp39-cp39-win_amd64.whl (1.5 MB)',\n",
       " 'Collecting flatbuffers>=2.0',\n",
       " '  Using cached flatbuffers-22.12.6-py2.py3-none-any.whl (26 kB)',\n",
       " 'Collecting wrapt>=1.11.0',\n",
       " '  Using cached wrapt-1.14.1-cp39-cp39-win_amd64.whl (35 kB)',\n",
       " 'Collecting opt-einsum>=2.3.2',\n",
       " '  Using cached opt_einsum-3.3.0-py3-none-any.whl (65 kB)',\n",
       " 'Collecting absl-py>=1.0.0',\n",
       " '  Using cached absl_py-1.3.0-py3-none-any.whl (124 kB)',\n",
       " 'Collecting google-pasta>=0.1.1',\n",
       " '  Using cached google_pasta-0.2.0-py3-none-any.whl (57 kB)',\n",
       " 'Collecting libclang>=13.0.0',\n",
       " '  Using cached libclang-14.0.6-py2.py3-none-win_amd64.whl (14.2 MB)',\n",
       " 'Collecting tensorflow-estimator<2.12,>=2.11.0',\n",
       " '  Using cached tensorflow_estimator-2.11.0-py2.py3-none-any.whl (439 kB)',\n",
       " 'Collecting grpcio<2.0,>=1.24.3',\n",
       " '  Using cached grpcio-1.51.1-cp39-cp39-win_amd64.whl (3.7 MB)',\n",
       " 'Requirement already satisfied: setuptools in e:\\\\signlanguagebible\\\\venv\\\\lib\\\\site-packages (from tensorflow-intel==2.11.0->tensorflow) (65.5.1)',\n",
       " 'Collecting h5py>=2.9.0',\n",
       " '  Using cached h5py-3.7.0-cp39-cp39-win_amd64.whl (2.6 MB)',\n",
       " 'Collecting keras<2.12,>=2.11.0',\n",
       " '  Using cached keras-2.11.0-py2.py3-none-any.whl (1.7 MB)',\n",
       " 'Collecting tensorboard<2.12,>=2.11',\n",
       " '  Using cached tensorboard-2.11.0-py3-none-any.whl (6.0 MB)',\n",
       " 'Collecting termcolor>=1.1.0',\n",
       " '  Using cached termcolor-2.1.1-py3-none-any.whl (6.2 kB)',\n",
       " 'Collecting astunparse>=1.6.0',\n",
       " '  Using cached astunparse-1.6.3-py2.py3-none-any.whl (12 kB)',\n",
       " 'Collecting protobuf<3.20,>=3.9.2',\n",
       " '  Using cached protobuf-3.19.6-cp39-cp39-win_amd64.whl (895 kB)',\n",
       " 'Collecting typing-extensions>=3.6.6',\n",
       " '  Using cached typing_extensions-4.4.0-py3-none-any.whl (26 kB)',\n",
       " 'Requirement already satisfied: packaging in e:\\\\signlanguagebible\\\\venv\\\\lib\\\\site-packages (from tensorflow-intel==2.11.0->tensorflow) (22.0)',\n",
       " 'Collecting gast<=0.4.0,>=0.2.1',\n",
       " '  Using cached gast-0.4.0-py3-none-any.whl (9.8 kB)',\n",
       " 'Collecting numpy>=1.20',\n",
       " '  Using cached numpy-1.23.5-cp39-cp39-win_amd64.whl (14.7 MB)',\n",
       " 'Requirement already satisfied: wheel<1.0,>=0.23.0 in e:\\\\signlanguagebible\\\\venv\\\\lib\\\\site-packages (from astunparse>=1.6.0->tensorflow-intel==2.11.0->tensorflow) (0.38.4)',\n",
       " 'Collecting werkzeug>=1.0.1',\n",
       " '  Using cached Werkzeug-2.2.2-py3-none-any.whl (232 kB)',\n",
       " 'Collecting markdown>=2.6.8',\n",
       " '  Using cached Markdown-3.4.1-py3-none-any.whl (93 kB)',\n",
       " 'Collecting tensorboard-data-server<0.7.0,>=0.6.0',\n",
       " '  Using cached tensorboard_data_server-0.6.1-py3-none-any.whl (2.4 kB)',\n",
       " 'Collecting tensorboard-plugin-wit>=1.6.0',\n",
       " '  Using cached tensorboard_plugin_wit-1.8.1-py3-none-any.whl (781 kB)',\n",
       " 'Collecting requests<3,>=2.21.0',\n",
       " '  Using cached requests-2.28.1-py3-none-any.whl (62 kB)',\n",
       " 'Collecting google-auth<3,>=1.6.3',\n",
       " '  Using cached google_auth-2.15.0-py2.py3-none-any.whl (177 kB)',\n",
       " 'Collecting google-auth-oauthlib<0.5,>=0.4.1',\n",
       " '  Using cached google_auth_oauthlib-0.4.6-py2.py3-none-any.whl (18 kB)',\n",
       " 'Collecting pyasn1-modules>=0.2.1',\n",
       " '  Using cached pyasn1_modules-0.2.8-py2.py3-none-any.whl (155 kB)',\n",
       " 'Collecting cachetools<6.0,>=2.0.0',\n",
       " '  Using cached cachetools-5.2.0-py3-none-any.whl (9.3 kB)',\n",
       " 'Collecting rsa<5,>=3.1.4',\n",
       " '  Using cached rsa-4.9-py3-none-any.whl (34 kB)',\n",
       " 'Collecting requests-oauthlib>=0.7.0',\n",
       " '  Using cached requests_oauthlib-1.3.1-py2.py3-none-any.whl (23 kB)',\n",
       " 'Collecting importlib-metadata>=4.4',\n",
       " '  Using cached importlib_metadata-5.1.0-py3-none-any.whl (21 kB)',\n",
       " 'Collecting charset-normalizer<3,>=2',\n",
       " '  Using cached charset_normalizer-2.1.1-py3-none-any.whl (39 kB)',\n",
       " 'Collecting urllib3<1.27,>=1.21.1',\n",
       " '  Using cached urllib3-1.26.13-py2.py3-none-any.whl (140 kB)',\n",
       " 'Collecting certifi>=2017.4.17',\n",
       " '  Using cached certifi-2022.12.7-py3-none-any.whl (155 kB)',\n",
       " 'Collecting idna<4,>=2.5',\n",
       " '  Using cached idna-3.4-py3-none-any.whl (61 kB)',\n",
       " 'Collecting MarkupSafe>=2.1.1',\n",
       " '  Using cached MarkupSafe-2.1.1-cp39-cp39-win_amd64.whl (17 kB)',\n",
       " 'Collecting zipp>=0.5',\n",
       " '  Using cached zipp-3.11.0-py3-none-any.whl (6.6 kB)',\n",
       " 'Collecting pyasn1<0.5.0,>=0.4.6',\n",
       " '  Using cached pyasn1-0.4.8-py2.py3-none-any.whl (77 kB)',\n",
       " 'Collecting oauthlib>=3.0.0',\n",
       " '  Using cached oauthlib-3.2.2-py3-none-any.whl (151 kB)',\n",
       " 'Installing collected packages: tensorboard-plugin-wit, pyasn1, libclang, flatbuffers, zipp, wrapt, urllib3, typing-extensions, termcolor, tensorflow-io-gcs-filesystem, tensorflow-estimator, tensorboard-data-server, rsa, pyasn1-modules, protobuf, oauthlib, numpy, MarkupSafe, keras, idna, grpcio, google-pasta, gast, charset-normalizer, certifi, cachetools, astunparse, absl-py, werkzeug, requests, opt-einsum, importlib-metadata, h5py, google-auth, requests-oauthlib, markdown, google-auth-oauthlib, tensorboard, tensorflow-intel, tensorflow',\n",
       " 'Successfully installed MarkupSafe-2.1.1 absl-py-1.3.0 astunparse-1.6.3 cachetools-5.2.0 certifi-2022.12.7 charset-normalizer-2.1.1 flatbuffers-22.12.6 gast-0.4.0 google-auth-2.15.0 google-auth-oauthlib-0.4.6 google-pasta-0.2.0 grpcio-1.51.1 h5py-3.7.0 idna-3.4 importlib-metadata-5.1.0 keras-2.11.0 libclang-14.0.6 markdown-3.4.1 numpy-1.23.5 oauthlib-3.2.2 opt-einsum-3.3.0 protobuf-3.19.6 pyasn1-0.4.8 pyasn1-modules-0.2.8 requests-2.28.1 requests-oauthlib-1.3.1 rsa-4.9 tensorboard-2.11.0 tensorboard-data-server-0.6.1 tensorboard-plugin-wit-1.8.1 tensorflow-2.11.0 tensorflow-estimator-2.11.0 tensorflow-intel-2.11.0 tensorflow-io-gcs-filesystem-0.28.0 termcolor-2.1.1 typing-extensions-4.4.0 urllib3-1.26.13 werkzeug-2.2.2 wrapt-1.14.1 zipp-3.11.0']"
      ]
     },
     "execution_count": 1,
     "metadata": {},
     "output_type": "execute_result"
    }
   ],
   "source": [
    "!!pip install tensorflow"
   ]
  },
  {
   "cell_type": "code",
   "execution_count": 2,
   "metadata": {},
   "outputs": [
    {
     "name": "stdout",
     "output_type": "stream",
     "text": [
      "Collecting tensorflow-gpu"
     ]
    },
    {
     "name": "stderr",
     "output_type": "stream",
     "text": [
      "ERROR: pip's dependency resolver does not currently take into account all the packages that are installed. This behaviour is the source of the following dependency conflicts.\n",
      "tensorflow-intel 2.11.0 requires keras<2.12,>=2.11.0, but you have keras 2.10.0 which is incompatible.\n",
      "tensorflow-intel 2.11.0 requires tensorboard<2.12,>=2.11, but you have tensorboard 2.10.1 which is incompatible.\n",
      "tensorflow-intel 2.11.0 requires tensorflow-estimator<2.12,>=2.11.0, but you have tensorflow-estimator 2.10.0 which is incompatible.\n"
     ]
    },
    {
     "name": "stdout",
     "output_type": "stream",
     "text": [
      "\n",
      "  Using cached tensorflow_gpu-2.10.1-cp39-cp39-win_amd64.whl (455.9 MB)\n",
      "Requirement already satisfied: numpy>=1.20 in e:\\signlanguagebible\\venv\\lib\\site-packages (from tensorflow-gpu) (1.23.5)\n",
      "Requirement already satisfied: libclang>=13.0.0 in e:\\signlanguagebible\\venv\\lib\\site-packages (from tensorflow-gpu) (14.0.6)\n",
      "Requirement already satisfied: packaging in e:\\signlanguagebible\\venv\\lib\\site-packages (from tensorflow-gpu) (22.0)\n",
      "Requirement already satisfied: grpcio<2.0,>=1.24.3 in e:\\signlanguagebible\\venv\\lib\\site-packages (from tensorflow-gpu) (1.51.1)\n",
      "Requirement already satisfied: absl-py>=1.0.0 in e:\\signlanguagebible\\venv\\lib\\site-packages (from tensorflow-gpu) (1.3.0)\n",
      "Requirement already satisfied: h5py>=2.9.0 in e:\\signlanguagebible\\venv\\lib\\site-packages (from tensorflow-gpu) (3.7.0)\n",
      "Requirement already satisfied: wrapt>=1.11.0 in e:\\signlanguagebible\\venv\\lib\\site-packages (from tensorflow-gpu) (1.14.1)\n",
      "Collecting tensorflow-estimator<2.11,>=2.10.0\n",
      "  Using cached tensorflow_estimator-2.10.0-py2.py3-none-any.whl (438 kB)\n",
      "Requirement already satisfied: gast<=0.4.0,>=0.2.1 in e:\\signlanguagebible\\venv\\lib\\site-packages (from tensorflow-gpu) (0.4.0)\n",
      "Requirement already satisfied: termcolor>=1.1.0 in e:\\signlanguagebible\\venv\\lib\\site-packages (from tensorflow-gpu) (2.1.1)\n",
      "Requirement already satisfied: flatbuffers>=2.0 in e:\\signlanguagebible\\venv\\lib\\site-packages (from tensorflow-gpu) (22.12.6)\n",
      "Requirement already satisfied: astunparse>=1.6.0 in e:\\signlanguagebible\\venv\\lib\\site-packages (from tensorflow-gpu) (1.6.3)\n",
      "Requirement already satisfied: setuptools in e:\\signlanguagebible\\venv\\lib\\site-packages (from tensorflow-gpu) (65.5.1)\n",
      "Requirement already satisfied: opt-einsum>=2.3.2 in e:\\signlanguagebible\\venv\\lib\\site-packages (from tensorflow-gpu) (3.3.0)\n",
      "Requirement already satisfied: google-pasta>=0.1.1 in e:\\signlanguagebible\\venv\\lib\\site-packages (from tensorflow-gpu) (0.2.0)\n",
      "Requirement already satisfied: six>=1.12.0 in e:\\signlanguagebible\\venv\\lib\\site-packages (from tensorflow-gpu) (1.16.0)\n",
      "Collecting keras<2.11,>=2.10.0\n",
      "  Using cached keras-2.10.0-py2.py3-none-any.whl (1.7 MB)\n",
      "Requirement already satisfied: typing-extensions>=3.6.6 in e:\\signlanguagebible\\venv\\lib\\site-packages (from tensorflow-gpu) (4.4.0)\n",
      "Collecting keras-preprocessing>=1.1.1\n",
      "  Using cached Keras_Preprocessing-1.1.2-py2.py3-none-any.whl (42 kB)\n",
      "Collecting tensorboard<2.11,>=2.10\n",
      "  Using cached tensorboard-2.10.1-py3-none-any.whl (5.9 MB)\n",
      "Requirement already satisfied: protobuf<3.20,>=3.9.2 in e:\\signlanguagebible\\venv\\lib\\site-packages (from tensorflow-gpu) (3.19.6)\n",
      "Requirement already satisfied: tensorflow-io-gcs-filesystem>=0.23.1 in e:\\signlanguagebible\\venv\\lib\\site-packages (from tensorflow-gpu) (0.28.0)\n",
      "Requirement already satisfied: wheel<1.0,>=0.23.0 in e:\\signlanguagebible\\venv\\lib\\site-packages (from astunparse>=1.6.0->tensorflow-gpu) (0.38.4)\n",
      "Requirement already satisfied: google-auth-oauthlib<0.5,>=0.4.1 in e:\\signlanguagebible\\venv\\lib\\site-packages (from tensorboard<2.11,>=2.10->tensorflow-gpu) (0.4.6)\n",
      "Requirement already satisfied: requests<3,>=2.21.0 in e:\\signlanguagebible\\venv\\lib\\site-packages (from tensorboard<2.11,>=2.10->tensorflow-gpu) (2.28.1)\n",
      "Requirement already satisfied: google-auth<3,>=1.6.3 in e:\\signlanguagebible\\venv\\lib\\site-packages (from tensorboard<2.11,>=2.10->tensorflow-gpu) (2.15.0)\n",
      "Requirement already satisfied: tensorboard-data-server<0.7.0,>=0.6.0 in e:\\signlanguagebible\\venv\\lib\\site-packages (from tensorboard<2.11,>=2.10->tensorflow-gpu) (0.6.1)\n",
      "Requirement already satisfied: werkzeug>=1.0.1 in e:\\signlanguagebible\\venv\\lib\\site-packages (from tensorboard<2.11,>=2.10->tensorflow-gpu) (2.2.2)\n",
      "Requirement already satisfied: tensorboard-plugin-wit>=1.6.0 in e:\\signlanguagebible\\venv\\lib\\site-packages (from tensorboard<2.11,>=2.10->tensorflow-gpu) (1.8.1)\n",
      "Requirement already satisfied: markdown>=2.6.8 in e:\\signlanguagebible\\venv\\lib\\site-packages (from tensorboard<2.11,>=2.10->tensorflow-gpu) (3.4.1)\n",
      "Requirement already satisfied: cachetools<6.0,>=2.0.0 in e:\\signlanguagebible\\venv\\lib\\site-packages (from google-auth<3,>=1.6.3->tensorboard<2.11,>=2.10->tensorflow-gpu) (5.2.0)\n",
      "Requirement already satisfied: pyasn1-modules>=0.2.1 in e:\\signlanguagebible\\venv\\lib\\site-packages (from google-auth<3,>=1.6.3->tensorboard<2.11,>=2.10->tensorflow-gpu) (0.2.8)\n",
      "Requirement already satisfied: rsa<5,>=3.1.4 in e:\\signlanguagebible\\venv\\lib\\site-packages (from google-auth<3,>=1.6.3->tensorboard<2.11,>=2.10->tensorflow-gpu) (4.9)\n",
      "Requirement already satisfied: requests-oauthlib>=0.7.0 in e:\\signlanguagebible\\venv\\lib\\site-packages (from google-auth-oauthlib<0.5,>=0.4.1->tensorboard<2.11,>=2.10->tensorflow-gpu) (1.3.1)\n",
      "Requirement already satisfied: importlib-metadata>=4.4 in e:\\signlanguagebible\\venv\\lib\\site-packages (from markdown>=2.6.8->tensorboard<2.11,>=2.10->tensorflow-gpu) (5.1.0)\n",
      "Requirement already satisfied: charset-normalizer<3,>=2 in e:\\signlanguagebible\\venv\\lib\\site-packages (from requests<3,>=2.21.0->tensorboard<2.11,>=2.10->tensorflow-gpu) (2.1.1)\n",
      "Requirement already satisfied: certifi>=2017.4.17 in e:\\signlanguagebible\\venv\\lib\\site-packages (from requests<3,>=2.21.0->tensorboard<2.11,>=2.10->tensorflow-gpu) (2022.12.7)\n",
      "Requirement already satisfied: urllib3<1.27,>=1.21.1 in e:\\signlanguagebible\\venv\\lib\\site-packages (from requests<3,>=2.21.0->tensorboard<2.11,>=2.10->tensorflow-gpu) (1.26.13)\n",
      "Requirement already satisfied: idna<4,>=2.5 in e:\\signlanguagebible\\venv\\lib\\site-packages (from requests<3,>=2.21.0->tensorboard<2.11,>=2.10->tensorflow-gpu) (3.4)\n",
      "Requirement already satisfied: MarkupSafe>=2.1.1 in e:\\signlanguagebible\\venv\\lib\\site-packages (from werkzeug>=1.0.1->tensorboard<2.11,>=2.10->tensorflow-gpu) (2.1.1)\n",
      "Requirement already satisfied: zipp>=0.5 in e:\\signlanguagebible\\venv\\lib\\site-packages (from importlib-metadata>=4.4->markdown>=2.6.8->tensorboard<2.11,>=2.10->tensorflow-gpu) (3.11.0)\n",
      "Requirement already satisfied: pyasn1<0.5.0,>=0.4.6 in e:\\signlanguagebible\\venv\\lib\\site-packages (from pyasn1-modules>=0.2.1->google-auth<3,>=1.6.3->tensorboard<2.11,>=2.10->tensorflow-gpu) (0.4.8)\n",
      "Requirement already satisfied: oauthlib>=3.0.0 in e:\\signlanguagebible\\venv\\lib\\site-packages (from requests-oauthlib>=0.7.0->google-auth-oauthlib<0.5,>=0.4.1->tensorboard<2.11,>=2.10->tensorflow-gpu) (3.2.2)\n",
      "Installing collected packages: keras, tensorflow-estimator, keras-preprocessing, tensorboard, tensorflow-gpu\n",
      "  Attempting uninstall: keras\n",
      "    Found existing installation: keras 2.11.0\n",
      "    Uninstalling keras-2.11.0:\n",
      "      Successfully uninstalled keras-2.11.0\n",
      "  Attempting uninstall: tensorflow-estimator\n",
      "    Found existing installation: tensorflow-estimator 2.11.0\n",
      "    Uninstalling tensorflow-estimator-2.11.0:\n",
      "      Successfully uninstalled tensorflow-estimator-2.11.0\n",
      "  Attempting uninstall: tensorboard\n",
      "    Found existing installation: tensorboard 2.11.0\n",
      "    Uninstalling tensorboard-2.11.0:\n",
      "      Successfully uninstalled tensorboard-2.11.0\n",
      "Successfully installed keras-2.10.0 keras-preprocessing-1.1.2 tensorboard-2.10.1 tensorflow-estimator-2.10.0 tensorflow-gpu-2.10.1\n"
     ]
    }
   ],
   "source": [
    "!pip install tensorflow-gpu"
   ]
  },
  {
   "cell_type": "code",
   "execution_count": 3,
   "metadata": {},
   "outputs": [
    {
     "name": "stdout",
     "output_type": "stream",
     "text": [
      "Collecting opencv-python\n",
      "  Using cached opencv_python-4.6.0.66-cp36-abi3-win_amd64.whl (35.6 MB)\n",
      "Collecting mediapipe\n",
      "  Downloading mediapipe-0.9.0.1-cp39-cp39-win_amd64.whl (49.8 MB)\n",
      "     -------------------------------------- 49.8/49.8 MB 421.3 kB/s eta 0:00:00\n",
      "Collecting matplotlib\n",
      "  Using cached matplotlib-3.6.2-cp39-cp39-win_amd64.whl (7.2 MB)\n",
      "Requirement already satisfied: numpy>=1.17.3 in e:\\signlanguagebible\\venv\\lib\\site-packages (from opencv-python) (1.23.5)\n",
      "Collecting attrs>=19.1.0\n",
      "  Using cached attrs-22.1.0-py2.py3-none-any.whl (58 kB)\n",
      "Requirement already satisfied: absl-py in e:\\signlanguagebible\\venv\\lib\\site-packages (from mediapipe) (1.3.0)\n",
      "Collecting opencv-contrib-python\n",
      "  Using cached opencv_contrib_python-4.6.0.66-cp36-abi3-win_amd64.whl (42.5 MB)\n",
      "Requirement already satisfied: flatbuffers>=2.0 in e:\\signlanguagebible\\venv\\lib\\site-packages (from mediapipe) (22.12.6)\n",
      "Requirement already satisfied: protobuf<4,>=3.11 in e:\\signlanguagebible\\venv\\lib\\site-packages (from mediapipe) (3.19.6)\n",
      "Collecting cycler>=0.10\n",
      "  Using cached cycler-0.11.0-py3-none-any.whl (6.4 kB)\n",
      "Collecting contourpy>=1.0.1\n",
      "  Using cached contourpy-1.0.6-cp39-cp39-win_amd64.whl (161 kB)\n",
      "Collecting pillow>=6.2.0\n",
      "  Using cached Pillow-9.3.0-cp39-cp39-win_amd64.whl (2.5 MB)\n",
      "Requirement already satisfied: packaging>=20.0 in e:\\signlanguagebible\\venv\\lib\\site-packages (from matplotlib) (22.0)\n",
      "Requirement already satisfied: python-dateutil>=2.7 in e:\\signlanguagebible\\venv\\lib\\site-packages (from matplotlib) (2.8.2)\n",
      "Collecting kiwisolver>=1.0.1\n",
      "  Using cached kiwisolver-1.4.4-cp39-cp39-win_amd64.whl (55 kB)\n",
      "Collecting pyparsing>=2.2.1\n",
      "  Using cached pyparsing-3.0.9-py3-none-any.whl (98 kB)\n",
      "Collecting fonttools>=4.22.0\n",
      "  Using cached fonttools-4.38.0-py3-none-any.whl (965 kB)\n",
      "Requirement already satisfied: six>=1.5 in e:\\signlanguagebible\\venv\\lib\\site-packages (from python-dateutil>=2.7->matplotlib) (1.16.0)\n",
      "Installing collected packages: pyparsing, pillow, opencv-python, opencv-contrib-python, kiwisolver, fonttools, cycler, contourpy, attrs, matplotlib, mediapipe\n",
      "Successfully installed attrs-22.1.0 contourpy-1.0.6 cycler-0.11.0 fonttools-4.38.0 kiwisolver-1.4.4 matplotlib-3.6.2 mediapipe-0.9.0.1 opencv-contrib-python-4.6.0.66 opencv-python-4.6.0.66 pillow-9.3.0 pyparsing-3.0.9\n"
     ]
    }
   ],
   "source": [
    "!pip install opencv-python mediapipe matplotlib"
   ]
  },
  {
   "cell_type": "code",
   "execution_count": 1,
   "metadata": {},
   "outputs": [
    {
     "name": "stdout",
     "output_type": "stream",
     "text": [
      "Collecting scikit-learn\n",
      "  Using cached scikit_learn-1.2.0-cp39-cp39-win_amd64.whl (8.3 MB)\n",
      "Collecting threadpoolctl>=2.0.0\n",
      "  Using cached threadpoolctl-3.1.0-py3-none-any.whl (14 kB)\n",
      "Collecting scipy>=1.3.2\n",
      "  Using cached scipy-1.9.3-cp39-cp39-win_amd64.whl (40.2 MB)\n",
      "Collecting joblib>=1.1.1\n",
      "  Using cached joblib-1.2.0-py3-none-any.whl (297 kB)\n",
      "Requirement already satisfied: numpy>=1.17.3 in e:\\signlanguagebible\\venv\\lib\\site-packages (from scikit-learn) (1.23.5)\n",
      "Installing collected packages: threadpoolctl, scipy, joblib, scikit-learn\n",
      "Successfully installed joblib-1.2.0 scikit-learn-1.2.0 scipy-1.9.3 threadpoolctl-3.1.0\n"
     ]
    }
   ],
   "source": [
    "!pip install scikit-learn"
   ]
  },
  {
   "cell_type": "code",
   "execution_count": 5,
   "metadata": {},
   "outputs": [
    {
     "name": "stdout",
     "output_type": "stream",
     "text": [
      "Collecting pandas\n",
      "  Using cached pandas-1.5.2-cp39-cp39-win_amd64.whl (10.9 MB)\n",
      "Requirement already satisfied: numpy>=1.20.3 in e:\\signlanguagebible\\venv\\lib\\site-packages (from pandas) (1.23.5)\n",
      "Requirement already satisfied: python-dateutil>=2.8.1 in e:\\signlanguagebible\\venv\\lib\\site-packages (from pandas) (2.8.2)\n",
      "Collecting pytz>=2020.1\n",
      "  Using cached pytz-2022.6-py2.py3-none-any.whl (498 kB)\n",
      "Requirement already satisfied: six>=1.5 in e:\\signlanguagebible\\venv\\lib\\site-packages (from python-dateutil>=2.8.1->pandas) (1.16.0)\n",
      "Installing collected packages: pytz, pandas\n",
      "Successfully installed pandas-1.5.2 pytz-2022.6\n"
     ]
    }
   ],
   "source": [
    "!pip install pandas"
   ]
  }
 ],
 "metadata": {
  "kernelspec": {
   "display_name": "venv",
   "language": "python",
   "name": "python3"
  },
  "language_info": {
   "codemirror_mode": {
    "name": "ipython",
    "version": 3
   },
   "file_extension": ".py",
   "mimetype": "text/x-python",
   "name": "python",
   "nbconvert_exporter": "python",
   "pygments_lexer": "ipython3",
   "version": "3.9.5"
  },
  "orig_nbformat": 4,
  "vscode": {
   "interpreter": {
    "hash": "f61877553e3f5e2598db6818cc62d89df45e66a54e5fc41f570715f64c563fcb"
   }
  }
 },
 "nbformat": 4,
 "nbformat_minor": 2
}
